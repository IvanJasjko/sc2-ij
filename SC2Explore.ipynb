{
 "cells": [
  {
   "cell_type": "code",
   "execution_count": 146,
   "metadata": {
    "collapsed": true
   },
   "outputs": [],
   "source": [
    "import pandas as pd\n",
    "import os\n",
    "import numpy as np\n",
    "import sc2reader\n",
    "import threading\n",
    "import matplotlib.pyplot as plt"
   ]
  },
  {
   "cell_type": "code",
   "execution_count": 16,
   "metadata": {
    "collapsed": true,
    "scrolled": false
   },
   "outputs": [],
   "source": [
    "rep_folder = \"data/s2client_blizz_replays/\"\n",
    "rep_names = [rep_name for root_dir, rep_dir, rep_name in os.walk(rep_folder)][0]\n",
    "rep_paths = [rep_folder + rep_name for rep_name in rep_names]"
   ]
  },
  {
   "cell_type": "code",
   "execution_count": 74,
   "metadata": {
    "collapsed": true,
    "scrolled": true
   },
   "outputs": [],
   "source": [
    "def loadReplay(rep_path):\n",
    "    return sc2reader.load_replay(rep_path, load_level=4)"
   ]
  },
  {
   "cell_type": "code",
   "execution_count": 75,
   "metadata": {
    "collapsed": true
   },
   "outputs": [],
   "source": [
    "def loadReplays(until, since = 0):\n",
    "    return [loadReplay(rep_path) for rep_path in rep_paths[since:until]]"
   ]
  },
  {
   "cell_type": "code",
   "execution_count": 76,
   "metadata": {
    "collapsed": true,
    "scrolled": false
   },
   "outputs": [],
   "source": [
    "def getPlayersData(replay):\n",
    "    player_data = [player.__dict__ for player in replay.players]\n",
    "    game_length = replay.length.seconds\n",
    "    return [makeDatapoint(player, game_length) for player in player_data]"
   ]
  },
  {
   "cell_type": "code",
   "execution_count": 77,
   "metadata": {
    "collapsed": true
   },
   "outputs": [],
   "source": [
    "def makeDatapoint(player, game_length):\n",
    "    result = player['result']\n",
    "    race = player['attribute_data']['Race']\n",
    "    events = sum(1 for event in player['events'] if event.__dict__['name'] != 'CameraEvent')\n",
    "    league_index = player['highest_league']\n",
    "    return race, league_index, events, result, game_length, "
   ]
  },
  {
   "cell_type": "code",
   "execution_count": 102,
   "metadata": {},
   "outputs": [
    {
     "name": "stdout",
     "output_type": "stream",
     "text": [
      "CPU times: user 13min 10s, sys: 5min 29s, total: 18min 39s\n",
      "Wall time: 20min 13s\n"
     ]
    }
   ],
   "source": [
    "%%time\n",
    "data = loadReplays(5000)"
   ]
  },
  {
   "cell_type": "code",
   "execution_count": 103,
   "metadata": {
    "collapsed": true
   },
   "outputs": [],
   "source": [
    "%%time\n",
    "playerPairs = [getPlayersData(replay) for replay in data]\n",
    "raw_dataset = [player for playerPair in playerPairs for player in playerPair]"
   ]
  },
  {
   "cell_type": "code",
   "execution_count": 150,
   "metadata": {
    "scrolled": false
   },
   "outputs": [],
   "source": [
    "cols = ['Race', 'LeagueIndex', 'Actions', 'GameResult', 'GameLength']\n",
    "df = pd.DataFrame(raw_dataset, columns=cols)\n",
    "df['APM'] = df['Actions'] / (df['GameLength'] / 60)\n",
    "df = df.loc[df[\"GameLength\"] > 60]"
   ]
  },
  {
   "cell_type": "code",
   "execution_count": 151,
   "metadata": {},
   "outputs": [
    {
     "data": {
      "text/html": [
       "<div>\n",
       "<style scoped>\n",
       "    .dataframe tbody tr th:only-of-type {\n",
       "        vertical-align: middle;\n",
       "    }\n",
       "\n",
       "    .dataframe tbody tr th {\n",
       "        vertical-align: top;\n",
       "    }\n",
       "\n",
       "    .dataframe thead tr th {\n",
       "        text-align: left;\n",
       "    }\n",
       "</style>\n",
       "<table border=\"1\" class=\"dataframe\">\n",
       "  <thead>\n",
       "    <tr>\n",
       "      <th></th>\n",
       "      <th>GameResult</th>\n",
       "      <th colspan=\"3\" halign=\"left\">APM</th>\n",
       "    </tr>\n",
       "    <tr>\n",
       "      <th></th>\n",
       "      <th></th>\n",
       "      <th>median</th>\n",
       "      <th>mean</th>\n",
       "      <th>count</th>\n",
       "    </tr>\n",
       "  </thead>\n",
       "  <tbody>\n",
       "    <tr>\n",
       "      <th>0</th>\n",
       "      <td>Loss</td>\n",
       "      <td>104.985207</td>\n",
       "      <td>119.684946</td>\n",
       "      <td>4478</td>\n",
       "    </tr>\n",
       "    <tr>\n",
       "      <th>1</th>\n",
       "      <td>Win</td>\n",
       "      <td>116.270365</td>\n",
       "      <td>131.122283</td>\n",
       "      <td>4478</td>\n",
       "    </tr>\n",
       "  </tbody>\n",
       "</table>\n",
       "</div>"
      ],
      "text/plain": [
       "  GameResult         APM                  \n",
       "                  median        mean count\n",
       "0       Loss  104.985207  119.684946  4478\n",
       "1        Win  116.270365  131.122283  4478"
      ]
     },
     "execution_count": 151,
     "metadata": {},
     "output_type": "execute_result"
    }
   ],
   "source": [
    "apm_for_winners = df.groupby('GameResult').agg(['median', 'mean', 'count']).reset_index()[['GameResult', 'APM']]\n",
    "apm_for_winners"
   ]
  },
  {
   "cell_type": "code",
   "execution_count": 152,
   "metadata": {},
   "outputs": [
    {
     "data": {
      "text/html": [
       "<div>\n",
       "<style scoped>\n",
       "    .dataframe tbody tr th:only-of-type {\n",
       "        vertical-align: middle;\n",
       "    }\n",
       "\n",
       "    .dataframe tbody tr th {\n",
       "        vertical-align: top;\n",
       "    }\n",
       "\n",
       "    .dataframe thead tr th {\n",
       "        text-align: left;\n",
       "    }\n",
       "</style>\n",
       "<table border=\"1\" class=\"dataframe\">\n",
       "  <thead>\n",
       "    <tr>\n",
       "      <th></th>\n",
       "      <th>LeagueIndex</th>\n",
       "      <th colspan=\"3\" halign=\"left\">APM</th>\n",
       "    </tr>\n",
       "    <tr>\n",
       "      <th></th>\n",
       "      <th></th>\n",
       "      <th>median</th>\n",
       "      <th>mean</th>\n",
       "      <th>count</th>\n",
       "    </tr>\n",
       "  </thead>\n",
       "  <tbody>\n",
       "    <tr>\n",
       "      <th>0</th>\n",
       "      <td>0</td>\n",
       "      <td>89.196164</td>\n",
       "      <td>105.998395</td>\n",
       "      <td>1036</td>\n",
       "    </tr>\n",
       "    <tr>\n",
       "      <th>1</th>\n",
       "      <td>1</td>\n",
       "      <td>46.783217</td>\n",
       "      <td>59.484513</td>\n",
       "      <td>251</td>\n",
       "    </tr>\n",
       "    <tr>\n",
       "      <th>2</th>\n",
       "      <td>2</td>\n",
       "      <td>66.473180</td>\n",
       "      <td>74.868218</td>\n",
       "      <td>1000</td>\n",
       "    </tr>\n",
       "    <tr>\n",
       "      <th>3</th>\n",
       "      <td>3</td>\n",
       "      <td>81.422679</td>\n",
       "      <td>88.800274</td>\n",
       "      <td>1146</td>\n",
       "    </tr>\n",
       "    <tr>\n",
       "      <th>4</th>\n",
       "      <td>4</td>\n",
       "      <td>102.076503</td>\n",
       "      <td>112.545487</td>\n",
       "      <td>1683</td>\n",
       "    </tr>\n",
       "    <tr>\n",
       "      <th>5</th>\n",
       "      <td>5</td>\n",
       "      <td>138.970588</td>\n",
       "      <td>147.367665</td>\n",
       "      <td>2911</td>\n",
       "    </tr>\n",
       "    <tr>\n",
       "      <th>6</th>\n",
       "      <td>6</td>\n",
       "      <td>206.760168</td>\n",
       "      <td>209.614918</td>\n",
       "      <td>775</td>\n",
       "    </tr>\n",
       "    <tr>\n",
       "      <th>7</th>\n",
       "      <td>7</td>\n",
       "      <td>250.819968</td>\n",
       "      <td>256.725394</td>\n",
       "      <td>166</td>\n",
       "    </tr>\n",
       "  </tbody>\n",
       "</table>\n",
       "</div>"
      ],
      "text/plain": [
       "  LeagueIndex         APM                  \n",
       "                   median        mean count\n",
       "0           0   89.196164  105.998395  1036\n",
       "1           1   46.783217   59.484513   251\n",
       "2           2   66.473180   74.868218  1000\n",
       "3           3   81.422679   88.800274  1146\n",
       "4           4  102.076503  112.545487  1683\n",
       "5           5  138.970588  147.367665  2911\n",
       "6           6  206.760168  209.614918   775\n",
       "7           7  250.819968  256.725394   166"
      ]
     },
     "execution_count": 152,
     "metadata": {},
     "output_type": "execute_result"
    }
   ],
   "source": [
    "apm_by_league = df.groupby('LeagueIndex').agg(['median', 'mean', 'count']).reset_index()[['LeagueIndex', 'APM']]\n",
    "apm_by_league"
   ]
  }
 ],
 "metadata": {
  "kernelspec": {
   "display_name": "Python 3",
   "language": "python",
   "name": "python3"
  },
  "language_info": {
   "codemirror_mode": {
    "name": "ipython",
    "version": 3
   },
   "file_extension": ".py",
   "mimetype": "text/x-python",
   "name": "python",
   "nbconvert_exporter": "python",
   "pygments_lexer": "ipython3",
   "version": "3.6.1"
  }
 },
 "nbformat": 4,
 "nbformat_minor": 2
}
